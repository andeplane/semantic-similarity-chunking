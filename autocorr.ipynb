{
 "cells": [
  {
   "cell_type": "code",
   "execution_count": null,
   "metadata": {},
   "outputs": [],
   "source": [
    "import os\n",
    "from openai import OpenAI\n",
    "\n",
    "client = OpenAI(\n",
    "    # This is the default and can be omitted\n",
    "    api_key=os.environ.get(\"OPENAI_API_KEY\"),\n",
    ")\n"
   ]
  },
  {
   "cell_type": "code",
   "execution_count": null,
   "metadata": {},
   "outputs": [],
   "source": [
    "from tqdm import tqdm\n",
    "import numpy as np\n",
    "\n",
    "with open(\"svante.txt\") as f:\n",
    "    text = f.read()\n",
    "words = text.split(\" \")\n",
    "min_chunk_size = 10\n",
    "max_chunk_size = 150\n",
    "\n",
    "start_deltas = 300\n",
    "corr_functions = []\n",
    "chunks = []\n",
    "\n",
    "for start in tqdm(range(0, len(words), start_deltas)):\n",
    "    words_at_start = words[start:start+max_chunk_size]\n",
    "    chunk_10 = ' '.join(words_at_start[0:10])\n",
    "    embedding_10 = client.embeddings.create(input = chunk_10, model = \"text-embedding-3-large\", dimensions=256)\n",
    "    corr_function = []\n",
    "    chunks.append([])\n",
    "    for chunk_size in range(min_chunk_size, max_chunk_size, 5):\n",
    "        # We don't need to compute embeddings on equal strings \n",
    "        if chunk_size > len(words_at_start):\n",
    "            break\n",
    "        chunk = ' '.join(words_at_start[:chunk_size])\n",
    "        chunks[-1].append(chunk)\n",
    "        \n",
    "        embedding = client.embeddings.create(input = chunk, model = \"text-embedding-3-large\", dimensions=256, timeout=10)\n",
    "        corr_function.append(np.dot(embedding_10.data[0].embedding, embedding.data[0].embedding))\n",
    "    corr_functions.append(corr_function)\n"
   ]
  },
  {
   "cell_type": "code",
   "execution_count": 65,
   "metadata": {},
   "outputs": [
    {
     "data": {
      "text/plain": [
       "<matplotlib.legend.Legend at 0x16c508340>"
      ]
     },
     "execution_count": 65,
     "metadata": {},
     "output_type": "execute_result"
    },
    {
     "data": {
      "image/png": "[encoded data removed]",
      "text/plain": [
       "<Figure size 640x480 with 1 Axes>"
      ]
     },
     "metadata": {},
     "output_type": "display_data"
    }
   ],
   "source": [
    "import matplotlib.pyplot as plt\n",
    "for i, corr_function in enumerate(corr_functions):\n",
    "    plt.scatter(range(len(corr_function)), corr_function, label = f'{i}', s=5)\n",
    "    #plt.show()\n",
    "plt.legend()"
   ]
  },
  {
   "cell_type": "code",
   "execution_count": null,
   "metadata": {},
   "outputs": [],
   "source": [
    "counter = 0\n",
    "found_it = None\n",
    "relevant_chunks = [2,4]\n",
    "for start in range(0, len(words), start_deltas):\n",
    "    words_at_start = words[start:start+max_chunk_size]\n",
    "    \n",
    "    if counter in relevant_chunks:\n",
    "        print(\"Found counter == \", counter)\n",
    "        found_it = words_at_start\n",
    "        for i in range(len(chunks[counter])):\n",
    "            chunk = chunks[counter][i].replace('\\n', ' ')\n",
    "            print(f\"     {i}{chunk}\")\n",
    "        \n",
    "        #print(' '.join(words_at_start[0:max_chunk_size]))\n",
    "        print('_' * 100 + '\\n\\n')\n",
    "    counter += 1"
   ]
  },
  {
   "cell_type": "code",
   "execution_count": 62,
   "metadata": {},
   "outputs": [
    {
     "name": "stdout",
     "output_type": "stream",
     "text": [
      "contraceptive+abortion 0.17927908155798855\n",
      "contraceptive+god 0.060611198085039106\n",
      "atheist+abortion 0.1477578540969085\n",
      "atheist+god 0.15494354451057854\n"
     ]
    }
   ],
   "source": [
    "first10 = client.embeddings.create(input = chunks[4][0], model = \"text-embedding-3-large\", dimensions=256)\n",
    "\n",
    "contraceptive = client.embeddings.create(input = chunks[4][4], model = \"text-embedding-3-large\", dimensions=256)\n",
    "atheist = client.embeddings.create(input = chunks[4][5], model = \"text-embedding-3-large\", dimensions=256)\n",
    "\n",
    "sample1 = 'abortion'\n",
    "sample2 = 'god'\n",
    "embeddings = {\n",
    "    sample1: client.embeddings.create(input = sample1, model = \"text-embedding-3-large\", dimensions=256),\n",
    "    sample2: client.embeddings.create(input = sample2, model = \"text-embedding-3-large\", dimensions=256)\n",
    "\n",
    "}\n",
    "\n",
    "print(f'contraceptive+{sample1}',np.dot(contraceptive.data[0].embedding, embeddings[sample1].data[0].embedding))\n",
    "print(f'contraceptive+{sample2}',np.dot(contraceptive.data[0].embedding, embeddings[sample2].data[0].embedding))\n",
    "print(f'atheist+{sample1}',np.dot(atheist.data[0].embedding, embeddings[sample1].data[0].embedding))\n",
    "print(f'atheist+{sample2}',np.dot(atheist.data[0].embedding, embeddings[sample2].data[0].embedding))\n",
    "\n"
   ]
  },
  {
   "cell_type": "code",
   "execution_count": 66,
   "metadata": {},
   "outputs": [
    {
     "name": "stdout",
     "output_type": "stream",
     "text": [
      "and contributed to the topic of contraceptives around 1910. However,\n",
      "0.6964476672498912\n",
      "and contributed to the topic of contraceptives around 1910. However, until 1938 information and sale of contraceptives was prohibited in the Kingdom of Sweden. Gordon Stein wrote that Svante Arrhenius was an atheist.[23][24] In his\n",
      "0.5668537764586894\n"
     ]
    }
   ],
   "source": [
    "print(chunks[4][0])\n",
    "print(np.dot(first10.data[0].embedding, contraceptive.data[0].embedding))\n",
    "print(chunks[4][5])\n",
    "print(np.dot(first10.data[0].embedding, atheist.data[0].embedding))\n"
   ]
  },
  {
   "cell_type": "code",
   "execution_count": null,
   "metadata": {},
   "outputs": [],
   "source": [
    "corr_functions[8]"
   ]
  },
  {
   "cell_type": "code",
   "execution_count": null,
   "metadata": {},
   "outputs": [],
   "source": []
  }
 ],
 "metadata": {
  "kernelspec": {
   "display_name": "wikiembeddings",
   "language": "python",
   "name": "python3"
  },
  "language_info": {
   "codemirror_mode": {
    "name": "ipython",
    "version": 3
   },
   "file_extension": ".py",
   "mimetype": "text/x-python",
   "name": "python",
   "nbconvert_exporter": "python",
   "pygments_lexer": "ipython3",
   "version": "3.9.18"
  }
 },
 "nbformat": 4,
 "nbformat_minor": 2
}
