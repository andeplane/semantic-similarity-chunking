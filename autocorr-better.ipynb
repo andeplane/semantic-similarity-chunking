{
 "cells": [
  {
   "cell_type": "code",
   "execution_count": null,
   "metadata": {},
   "outputs": [],
   "source": [
    "with open(\"svante.txt\") as f:\n",
    "    text = f.read()\n",
    "svante = text.split(\" \")\n",
    "\n",
    "with open(\"arctic.txt\") as f:\n",
    "    text = f.read()\n",
    "arctic = text.split(\" \")"
   ]
  },
  {
   "cell_type": "code",
   "execution_count": null,
   "metadata": {},
   "outputs": [],
   "source": [
    "import os\n",
    "from openai import OpenAI\n",
    "\n",
    "client = OpenAI(\n",
    "    # This is the default and can be omitted\n",
    "    api_key=os.environ.get(\"OPENAI_API_KEY\"),\n",
    ")"
   ]
  },
  {
   "cell_type": "code",
   "execution_count": 139,
   "metadata": {},
   "outputs": [],
   "source": [
    "\n",
    "def create_embeddings(chunk: list[str]):\n",
    "    embeddings = client.embeddings.create(input = chunk, model = \"text-embedding-3-large\", dimensions=256, timeout=5)\n",
    "    return [d.embedding for d in embeddings.data]\n",
    "\n",
    "def create_chunks(lst, num_chunks):\n",
    "    return [lst[i:i + num_chunks] for i in range(0, len(lst), num_chunks)]\n",
    "\n",
    "# Run embedding on multiple threads using multiprocessing\n",
    "def create_embedding_parallel(chunks: list[str], num_threads=4):\n",
    "    import multiprocessing\n",
    "    from concurrent.futures import ThreadPoolExecutor\n",
    "    # Split chinks into N lists of chunks\n",
    "    chunks_of_chunks = create_chunks(chunks, num_threads)\n",
    "    \n",
    "    with ThreadPoolExecutor(max_workers=num_threads) as executor:\n",
    "        embeddings = list(executor.map(create_embeddings, chunks_of_chunks))\n",
    "    # Now we have a list of list of embeddings. Flatten out\n",
    "    all_embeddings = []\n",
    "    for e in embeddings:\n",
    "        all_embeddings.extend(e)\n",
    "    return all_embeddings\n",
    "# svante_sentences = ' '.join(svante).split('.')\n",
    "# import time\n",
    "# start = time.time()\n",
    "# embeddings = create_embedding_parallel(svante_sentences, num_threads=1)\n",
    "# end = time.time()\n",
    "# print(\"Done after \", end-start)\n",
    "# print(len(embeddings), ' vs ', len(svante_sentences))\n",
    "    "
   ]
  },
  {
   "cell_type": "code",
   "execution_count": 140,
   "metadata": {},
   "outputs": [],
   "source": [
    "from tqdm import tqdm\n",
    "\n",
    "def create_all_embeddings(words):        \n",
    "    chunk_size = 25\n",
    "    chunk_stride = 5\n",
    "    # Split words into chunks of size chunk_size and stride chunk_stride\n",
    "    chunks = [words[i:i+chunk_size] for i in range(0, len(words), chunk_stride)]\n",
    "\n",
    "    # Loop over all chunks and generate embeddings\n",
    "    embeddings = []\n",
    "    chunks_as_str = [\" \".join(chunk) for chunk in chunks]\n",
    "    embeddings = create_embedding_parallel(chunks_as_str, num_threads=10)\n",
    "    # for chunk in tqdm(chunks):\n",
    "    #     chunk_as_str = \" \".join(chunk)\n",
    "    #     embedding = client.embeddings.create(input = chunk_as_str, model = \"text-embedding-3-large\", dimensions=256, timeout=5)\n",
    "    #     embeddings.append(embedding.data[0].embedding)\n",
    "    return chunks, embeddings"
   ]
  },
  {
   "cell_type": "code",
   "execution_count": 142,
   "metadata": {},
   "outputs": [],
   "source": [
    "chunks, embeddings = create_all_embeddings(svante)"
   ]
  },
  {
   "cell_type": "code",
   "execution_count": 143,
   "metadata": {},
   "outputs": [],
   "source": [
    "import numpy as np\n",
    "def autocorr(embeddings):\n",
    "    corr_values = np.zeros(len(embeddings))\n",
    "    counts = np.zeros(len(embeddings))\n",
    "    for i in range(len(embeddings)):\n",
    "        for j in range(i, len(embeddings)):\n",
    "            corr_values[j-i] += np.dot(embeddings[i], embeddings[j])\n",
    "            counts[j-i] += 1\n",
    "\n",
    "    corr_values /= counts\n",
    "    return corr_values"
   ]
  },
  {
   "cell_type": "code",
   "execution_count": 144,
   "metadata": {},
   "outputs": [
    {
     "data": {
      "text/plain": [
       "[<matplotlib.lines.Line2D at 0x169a85ac0>]"
      ]
     },
     "execution_count": 144,
     "metadata": {},
     "output_type": "execute_result"
    },
    {
     "data": {
      "image/png": "[encoded data removed]",
      "text/plain": [
       "<Figure size 640x480 with 1 Axes>"
      ]
     },
     "metadata": {},
     "output_type": "display_data"
    }
   ],
   "source": [
    "svante_chunks, svante_embeddings = create_all_embeddings(svante)\n",
    "svante_corr = autocorr(svante_embeddings)\n",
    "\n",
    "import matplotlib.pyplot as plt\n",
    "arctic_chunks, arctic_embeddings = create_all_embeddings(arctic)\n",
    "arctic_corr = autocorr(arctic_embeddings)\n",
    "\n",
    "plt.plot(arctic_corr[0:50], label='arctic')\n",
    "plt.plot(svante_corr[0:50], label='svante')\n",
    "plt.legend()\n"
   ]
  },
  {
   "cell_type": "code",
   "execution_count": null,
   "metadata": {},
   "outputs": [],
   "source": []
  },
  {
   "cell_type": "code",
   "execution_count": null,
   "metadata": {},
   "outputs": [],
   "source": []
  },
  {
   "cell_type": "code",
   "execution_count": null,
   "metadata": {},
   "outputs": [],
   "source": []
  },
  {
   "cell_type": "code",
   "execution_count": null,
   "metadata": {},
   "outputs": [],
   "source": []
  }
 ],
 "metadata": {
  "kernelspec": {
   "display_name": "wikiembeddings",
   "language": "python",
   "name": "python3"
  },
  "language_info": {
   "codemirror_mode": {
    "name": "ipython",
    "version": 3
   },
   "file_extension": ".py",
   "mimetype": "text/x-python",
   "name": "python",
   "nbconvert_exporter": "python",
   "pygments_lexer": "ipython3",
   "version": "3.9.18"
  }
 },
 "nbformat": 4,
 "nbformat_minor": 2
}
