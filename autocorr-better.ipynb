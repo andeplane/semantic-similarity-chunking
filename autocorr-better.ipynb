{
 "cells": [
  {
   "cell_type": "code",
   "execution_count": 119,
   "metadata": {},
   "outputs": [],
   "source": [
    "import numpy as np\n",
    "import matplotlib.pyplot as plt\n",
    "from ipywidgets import interact, IntSlider, HTML, Button, HBox\n",
    "from tqdm import tqdm\n",
    "import pandas as pd\n"
   ]
  },
  {
   "cell_type": "code",
   "execution_count": null,
   "metadata": {},
   "outputs": [],
   "source": [
    "with open(\"svante.txt\") as f:\n",
    "    text = f.read()\n",
    "svante = text.split(\" \")\n",
    "\n",
    "with open(\"arctic.txt\") as f:\n",
    "    text = f.read()\n",
    "arctic = text.split(\" \")"
   ]
  },
  {
   "cell_type": "code",
   "execution_count": null,
   "metadata": {},
   "outputs": [],
   "source": [
    "import os\n",
    "from openai import OpenAI\n",
    "\n",
    "client = OpenAI(\n",
    "    # This is the default and can be omitted\n",
    "    api_key=os.environ.get(\"OPENAI_API_KEY\"),\n",
    ")"
   ]
  },
  {
   "cell_type": "code",
   "execution_count": null,
   "metadata": {},
   "outputs": [],
   "source": [
    "# Run embedding on multiple threads using multiprocessing\n",
    "def create_embedding_parallel(chunks: list[str], num_threads=4):\n",
    "    import multiprocessing\n",
    "    from concurrent.futures import ThreadPoolExecutor\n",
    "\n",
    "    def create_embeddings(chunk: list[str]):\n",
    "        embeddings = client.embeddings.create(input = chunk, model = \"text-embedding-3-large\", dimensions=256, timeout=5)\n",
    "        return [d.embedding for d in embeddings.data]\n",
    "\n",
    "    def create_chunks(lst, num_chunks):\n",
    "        return [lst[i:i + num_chunks] for i in range(0, len(lst), num_chunks)]\n",
    "\n",
    "    # Split chinks into N lists of chunks\n",
    "    chunks_of_chunks = create_chunks(chunks, num_threads)\n",
    "    \n",
    "    with ThreadPoolExecutor(max_workers=num_threads) as executor:\n",
    "        embeddings = list(executor.map(create_embeddings, chunks_of_chunks))\n",
    "    # Now we have a list of list of embeddings. Flatten out\n",
    "    all_embeddings = []\n",
    "    for e in embeddings:\n",
    "        all_embeddings.extend(e)\n",
    "    return all_embeddings\n"
   ]
  },
  {
   "cell_type": "code",
   "execution_count": null,
   "metadata": {},
   "outputs": [],
   "source": [
    "from tqdm import tqdm\n",
    "\n",
    "def create_all_embeddings(words):        \n",
    "    chunk_size = 25\n",
    "    chunk_stride = 1\n",
    "    # Split words into chunks of size chunk_size and stride chunk_stride\n",
    "    chunks = [words[i:i+chunk_size] for i in range(0, len(words), chunk_stride)]\n",
    "\n",
    "    # Loop over all chunks and generate embeddings\n",
    "    embeddings = []\n",
    "    chunks_as_str = [\" \".join(chunk) for chunk in chunks]\n",
    "    embeddings = create_embedding_parallel(chunks_as_str, num_threads=10)\n",
    "    # for chunk in tqdm(chunks):\n",
    "    #     chunk_as_str = \" \".join(chunk)\n",
    "    #     embedding = client.embeddings.create(input = chunk_as_str, model = \"text-embedding-3-large\", dimensions=256, timeout=5)\n",
    "    #     embeddings.append(embedding.data[0].embedding)\n",
    "    return chunks, embeddings"
   ]
  },
  {
   "cell_type": "code",
   "execution_count": null,
   "metadata": {},
   "outputs": [],
   "source": [
    "#chunks, embeddings = create_all_embeddings(svante)"
   ]
  },
  {
   "cell_type": "code",
   "execution_count": null,
   "metadata": {},
   "outputs": [],
   "source": [
    "import numpy as np\n",
    "def autocorr(embeddings):\n",
    "    corr_values = np.zeros(len(embeddings))\n",
    "    counts = np.zeros(len(embeddings))\n",
    "    for i in range(len(embeddings)):\n",
    "        for j in range(i, len(embeddings)):\n",
    "            corr_values[j-i] += np.dot(embeddings[i], embeddings[j])\n",
    "            counts[j-i] += 1\n",
    "\n",
    "    corr_values /= counts\n",
    "    return corr_values"
   ]
  },
  {
   "cell_type": "code",
   "execution_count": null,
   "metadata": {},
   "outputs": [],
   "source": [
    "svante_chunks, svante_embeddings = create_all_embeddings(svante)\n",
    "svante_corr = autocorr(svante_embeddings)\n",
    "\n",
    "import matplotlib.pyplot as plt\n",
    "arctic_chunks, arctic_embeddings = create_all_embeddings(arctic)\n",
    "arctic_corr = autocorr(arctic_embeddings)\n",
    "\n",
    "plt.plot(arctic_corr[0:50], label='arctic')\n",
    "plt.plot(svante_corr[0:50], label='svante')\n",
    "plt.legend()\n"
   ]
  },
  {
   "cell_type": "code",
   "execution_count": 60,
   "metadata": {},
   "outputs": [],
   "source": [
    "def create_chunks(words, offset, min_chunk_size, max_chunk_size, chunk_stride):\n",
    "    all_chunks = []\n",
    "    for chunk_size in range(min_chunk_size, max_chunk_size+1, chunk_stride):\n",
    "        chunk = []\n",
    "        for i in range(chunk_size):\n",
    "            chunk.append(words[offset+i])\n",
    "        all_chunks.append(\" \".join(chunk))\n",
    "    return all_chunks"
   ]
  },
  {
   "cell_type": "code",
   "execution_count": null,
   "metadata": {},
   "outputs": [],
   "source": [
    "words = [\"0\", \"1\", \"2\", \"3\", \"4\", \"5\", \"6\", \"7\", \"8\", \"9\", \"10\", \"11\"]\n",
    "min_chunk_size = 2\n",
    "chunk_stride = 1\n",
    "max_chunk_size = 5\n",
    "offset_stride = 3\n",
    "for offset in range(0, len(words)-max_chunk_size+1, offset_stride):\n",
    "    print(\"Starting on offset \", offset)\n",
    "    stuff = create_chunks(words, offset, min_chunk_size, chunk_stride, max_chunk_size)\n",
    "    for thing in stuff:\n",
    "        display(thing)\n"
   ]
  },
  {
   "cell_type": "code",
   "execution_count": 58,
   "metadata": {},
   "outputs": [
    {
     "data": {
      "text/plain": [
       "'was'"
      ]
     },
     "execution_count": 58,
     "metadata": {},
     "output_type": "execute_result"
    }
   ],
   "source": [
    "svante[1]"
   ]
  },
  {
   "cell_type": "code",
   "execution_count": 116,
   "metadata": {},
   "outputs": [],
   "source": [
    "def get_color_value(value, minValue, maxValue, cmap='viridis'):\n",
    "    import matplotlib\n",
    "    \"\"\"Get color from colormap.\n",
    "\n",
    "    Parameters\n",
    "    -----------------\n",
    "    :param value: Value used tpo get color from colormap\n",
    "    :param minValue: Minimum value in colormap. Values below this value will saturate on the lower color of the colormap.\n",
    "    :param maxValue: Maximum value in colormap. Values above this value will saturate on the upper color of the colormap.\n",
    "\n",
    "    :returns: 4-vector containing colormap values. \n",
    "\n",
    "    This is useful if you are plotting data from several simulations, and want to color them based on some parameters changing between the simulations. For example, you may want the color to gradually change along a clormap as the temperature increases. \n",
    "\n",
    "    \"\"\"\n",
    "    diff = maxValue-minValue\n",
    "    cmap = matplotlib.colormaps[cmap]\n",
    "    rgba = cmap((value-minValue)/diff)\n",
    "    return rgba"
   ]
  },
  {
   "cell_type": "code",
   "execution_count": 81,
   "metadata": {},
   "outputs": [
    {
     "name": "stderr",
     "output_type": "stream",
     "text": [
      "100%|██████████| 23/23 [00:18<00:00,  1.24it/s]\n"
     ]
    }
   ],
   "source": [
    "min_chunk_size = 20\n",
    "max_chunk_size = 200\n",
    "chunk_size_stride = 1\n",
    "offset_stride = 100\n",
    "max_offset = len(svante)-max_chunk_size+1\n",
    "\n",
    "offset_results = []\n",
    "for offset in tqdm(range(0, max_offset, offset_stride)):\n",
    "    chunks = create_chunks(svante, offset, min_chunk_size, max_chunk_size, chunk_size_stride)\n",
    "    embeddings = create_embedding_parallel(chunks, num_threads=10)\n",
    "    x_values = [chunk_size_stride*i for i in range(len(embeddings))]\n",
    "    y_values = []\n",
    "    for embedding in embeddings:\n",
    "        y_values.append(np.dot(embedding, embeddings[0]))\n",
    "    \n",
    "    offset_results.append({\n",
    "        \"offset\": offset,\n",
    "        \"chunks\": chunks,\n",
    "        \"embeddings\": embeddings,\n",
    "        \"x_values\": x_values,\n",
    "        \"y_values\": y_values\n",
    "    })\n",
    "offset_results_df = pd.DataFrame(offset_results)\n"
   ]
  },
  {
   "cell_type": "code",
   "execution_count": 123,
   "metadata": {},
   "outputs": [
    {
     "data": {
      "application/vnd.jupyter.widget-view+json": {
       "model_id": "8b4a25f3259f4420a89c2c5f10f44218",
       "version_major": 2,
       "version_minor": 0
      },
      "text/plain": [
       "HBox(children=(Button(description='-', style=ButtonStyle()), Button(description='+', style=ButtonStyle())))"
      ]
     },
     "metadata": {},
     "output_type": "display_data"
    },
    {
     "data": {
      "application/vnd.jupyter.widget-view+json": {
       "model_id": "a7c14c9ce9a94a20b9c3abba08e54bda",
       "version_major": 2,
       "version_minor": 0
      },
      "text/plain": [
       "interactive(children=(IntSlider(value=0, description='offset', max=2251, step=100), Output()), _dom_classes=('…"
      ]
     },
     "metadata": {},
     "output_type": "display_data"
    }
   ],
   "source": [
    "# Create a slider in this notebook to select the offset\n",
    "# For the given value, plot x_values against y_values in the dataframe\n",
    "\n",
    "offset_slider = IntSlider(min=0, max=max_offset, step=offset_stride, value=0)\n",
    "\n",
    "# Define button click actions\n",
    "def on_button_clicked_increment(b):\n",
    "    if offset_slider.value < max_offset:\n",
    "        offset_slider.value += offset_stride\n",
    "\n",
    "def on_button_clicked_decrement(b):\n",
    "    if offset_slider.value > 0:\n",
    "        offset_slider.value -= offset_stride\n",
    "\n",
    "# Create buttons\n",
    "button_plus = Button(description='+')\n",
    "button_minus = Button(description='-')\n",
    "\n",
    "# Assign click handlers\n",
    "button_plus.on_click(on_button_clicked_increment)\n",
    "button_minus.on_click(on_button_clicked_decrement)\n",
    "\n",
    "# Position buttons with the slider\n",
    "widgets_hbox = HBox([button_minus, button_plus])\n",
    "display(widgets_hbox)\n",
    "\n",
    "@interact(offset=offset_slider)\n",
    "def plot_offset(offset):\n",
    "    df = offset_results_df[offset_results_df.offset==offset]\n",
    "    series = df.iloc[0]\n",
    "    words = series.chunks[0]\n",
    "    # Create a scrollable container for the text\n",
    "    colored_text_chunks = []\n",
    "    colors = []\n",
    "    for i, chunk in enumerate(series.chunks):\n",
    "        color = get_color_value(i, 0, len(series.chunks), 'jet')\n",
    "        colors.append(color)\n",
    "        # Convert rgba to hex\n",
    "        color = \"#{:02x}{:02x}{:02x}\".format(int(color[0]*255), int(color[1]*255), int(color[2]*255))\n",
    "\n",
    "        text_contributions = chunk\n",
    "        if i > 0:\n",
    "            text_contributions = text_contributions.replace(series.chunks[i-1], '')\n",
    "        colored_text_chunks.append(f'<span style=\"color: {color};\">{text_contributions}</span>')\n",
    "    colored_text = ' '.join(colored_text_chunks)\n",
    "    \n",
    "    \n",
    "    plt.scatter(series.x_values, series.y_values, c=colors, label = f\"offset {offset}\")\n",
    "    plt.xlabel(\"Chunk size N\")\n",
    "    plt.ylabel(r\"$\\langle v_0 \\cdot v_N \\rangle$\")\n",
    "    plt.title(\"Chunk autocorrelation\")\n",
    "    plt.ylim(0.3, 1)\n",
    "    plt.legend()\n",
    "    \n",
    "    display(HTML(f'<div style=\"width: 100%; height: 100px; overflow: auto;\">{colored_text}</div>'))\n"
   ]
  },
  {
   "cell_type": "code",
   "execution_count": 92,
   "metadata": {},
   "outputs": [
    {
     "data": {
      "text/plain": [
       "'concept of activation energy, an energy barrier that must be overcome before two molecules will react. The Arrhenius equation gives'"
      ]
     },
     "execution_count": 92,
     "metadata": {},
     "output_type": "execute_result"
    }
   ],
   "source": []
  },
  {
   "cell_type": "code",
   "execution_count": 91,
   "metadata": {},
   "outputs": [
    {
     "data": {
      "text/html": [
       "<div>\n",
       "<style scoped>\n",
       "    .dataframe tbody tr th:only-of-type {\n",
       "        vertical-align: middle;\n",
       "    }\n",
       "\n",
       "    .dataframe tbody tr th {\n",
       "        vertical-align: top;\n",
       "    }\n",
       "\n",
       "    .dataframe thead th {\n",
       "        text-align: right;\n",
       "    }\n",
       "</style>\n",
       "<table border=\"1\" class=\"dataframe\">\n",
       "  <thead>\n",
       "    <tr style=\"text-align: right;\">\n",
       "      <th></th>\n",
       "      <th>offset</th>\n",
       "      <th>chunks</th>\n",
       "      <th>embeddings</th>\n",
       "      <th>x_values</th>\n",
       "      <th>y_values</th>\n",
       "    </tr>\n",
       "  </thead>\n",
       "  <tbody>\n",
       "    <tr>\n",
       "      <th>7</th>\n",
       "      <td>700</td>\n",
       "      <td>[concept of activation energy, an energy barri...</td>\n",
       "      <td>[[-0.14195822179317474, -0.04225396364927292, ...</td>\n",
       "      <td>[0, 2, 4, 6, 8, 10, 12, 14, 16, 18, 20, 22, 24...</td>\n",
       "      <td>[1.000000018872516, 0.9519218010013157, 0.9521...</td>\n",
       "    </tr>\n",
       "  </tbody>\n",
       "</table>\n",
       "</div>"
      ],
      "text/plain": [
       "   offset                                             chunks  \\\n",
       "7     700  [concept of activation energy, an energy barri...   \n",
       "\n",
       "                                          embeddings  \\\n",
       "7  [[-0.14195822179317474, -0.04225396364927292, ...   \n",
       "\n",
       "                                            x_values  \\\n",
       "7  [0, 2, 4, 6, 8, 10, 12, 14, 16, 18, 20, 22, 24...   \n",
       "\n",
       "                                            y_values  \n",
       "7  [1.000000018872516, 0.9519218010013157, 0.9521...  "
      ]
     },
     "execution_count": 91,
     "metadata": {},
     "output_type": "execute_result"
    }
   ],
   "source": [
    "df"
   ]
  },
  {
   "cell_type": "code",
   "execution_count": null,
   "metadata": {},
   "outputs": [],
   "source": []
  }
 ],
 "metadata": {
  "kernelspec": {
   "display_name": "wikiembeddings",
   "language": "python",
   "name": "python3"
  },
  "language_info": {
   "codemirror_mode": {
    "name": "ipython",
    "version": 3
   },
   "file_extension": ".py",
   "mimetype": "text/x-python",
   "name": "python",
   "nbconvert_exporter": "python",
   "pygments_lexer": "ipython3",
   "version": "3.9.18"
  }
 },
 "nbformat": 4,
 "nbformat_minor": 2
}
